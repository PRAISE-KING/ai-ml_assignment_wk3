{
  "nbformat": 4,
  "nbformat_minor": 0,
  "metadata": {
    "colab": {
      "provenance": [],
      "authorship_tag": "ABX9TyPb2OwS6vN9Oro2FJXYJAVz",
      "include_colab_link": true
    },
    "kernelspec": {
      "name": "python3",
      "display_name": "Python 3"
    },
    "language_info": {
      "name": "python"
    }
  },
  "cells": [
    {
      "cell_type": "markdown",
      "metadata": {
        "id": "view-in-github",
        "colab_type": "text"
      },
      "source": [
        "<a href=\"https://colab.research.google.com/github/PRAISE-KING/ai-ml_assignment_wk3/blob/main/NLP_with_spaCy.ipynb\" target=\"_parent\"><img src=\"https://colab.research.google.com/assets/colab-badge.svg\" alt=\"Open In Colab\"/></a>"
      ]
    },
    {
      "cell_type": "code",
      "execution_count": 1,
      "metadata": {
        "id": "zU2mAL0bvgNt"
      },
      "outputs": [],
      "source": [
        "# Task 3: NLP with spaCy - NER + Rule-Based Sentiment\n",
        "\n",
        "import spacy\n"
      ]
    },
    {
      "cell_type": "code",
      "source": [
        "# Load spaCy model\n",
        "nlp = spacy.load(\"en_core_web_sm\")"
      ],
      "metadata": {
        "id": "K4cU9gb9wNrT"
      },
      "execution_count": 2,
      "outputs": []
    },
    {
      "cell_type": "code",
      "source": [
        "# Sample Amazon review\n",
        "review = \"I love my new Samsung Galaxy phone. The camera is amazing!\"\n",
        "doc = nlp(review)"
      ],
      "metadata": {
        "id": "3OB_BjgawSrj"
      },
      "execution_count": 3,
      "outputs": []
    },
    {
      "cell_type": "code",
      "source": [
        "# Named Entity Recognition\n",
        "print(\"Named Entities:\")\n",
        "for ent in doc.ents:\n",
        "    print(ent.text, \"-\", ent.label_)\n"
      ],
      "metadata": {
        "colab": {
          "base_uri": "https://localhost:8080/"
        },
        "id": "f4GzhPSqwYDP",
        "outputId": "a42cb66f-7bcd-4e12-8812-28738eba2d7c"
      },
      "execution_count": 4,
      "outputs": [
        {
          "output_type": "stream",
          "name": "stdout",
          "text": [
            "Named Entities:\n",
            "Samsung Galaxy - ORG\n"
          ]
        }
      ]
    },
    {
      "cell_type": "code",
      "source": [
        "# Rule-based sentiment analysis\n",
        "positive_words = [\"love\", \"amazing\", \"great\", \"excellent\"]\n",
        "negative_words = [\"bad\", \"poor\", \"hate\", \"terrible\"]\n",
        "\n",
        "sentiment = \"positive\" if any(word in review.lower() for word in positive_words) else \\\n",
        "            \"negative\" if any(word in review.lower() for word in negative_words) else \"neutral\"\n",
        "\n",
        "print(\"Sentiment:\", sentiment)"
      ],
      "metadata": {
        "colab": {
          "base_uri": "https://localhost:8080/"
        },
        "id": "HunPKLvwwb-V",
        "outputId": "11c0bdc7-7858-4a76-b72a-9f47d0be63ea"
      },
      "execution_count": 5,
      "outputs": [
        {
          "output_type": "stream",
          "name": "stdout",
          "text": [
            "Sentiment: positive\n"
          ]
        }
      ]
    }
  ]
}